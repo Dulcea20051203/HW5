{
 "cells": [
  {
   "cell_type": "markdown",
   "id": "e80431ba",
   "metadata": {},
   "source": [
    "#Question 1 \n",
    "\n",
    "Key factor: If a notion can be put into quantifiable terms, that's what makes it statistically testable in hypothesis testing. This means that predictions or expectations for data that may be gathered and examined by statistical techniques should result from the concept.\n",
    "\n",
    "Criteria: Clear, testable, and falsifiable criteria characterize a strong null hypothesis (H₀). In order to be used as a point of comparison, it must express a precise assertion or assumption on a population parameter (such as the mean or proportion). Generally, the null hypothesis asserts that the situation under study has no impact or differences.\n",
    "\n",
    "Difference: The default assumption or claim that there is no significant effect or difference in the population is represented by the null hypothesis (H0). The opposing assertion that suggests there is an effect or difference is the alternative hypothesis (H₁ or Hₐ). It stands for the conclusions the researcher hopes to draw from the information."
   ]
  },
  {
   "cell_type": "markdown",
   "id": "126ee0e2",
   "metadata": {},
   "source": [
    "#Summary for my chatbot(For the question one)\n",
    "\n",
    "https://chatgpt.com/share/6708a68a-c200-800b-8527-69de4747e715"
   ]
  },
  {
   "cell_type": "markdown",
   "id": "237910be",
   "metadata": {},
   "source": [
    "#Question 2\n",
    "\n",
    "A sample is a small group that is representative of the total population, and it is typically used to provide data for tests, such as the hypothesis test. For example, when we calculate the mean from a sample, is write as $\\bar x$, Actually, we study the data which are from the real life, is about the average of the entire population, and we call $\\mu$. \n",
    "\n",
    "Also from the hypothesis test, there are two possibilities. The frist one is Null Hypothesis says the true average $\\mu$ equal a value, also called $\\mu_0$. The second is Alternative hypothesis says tehe true average  $\\mu$ is not equal as $\\mu_0$.\n",
    "\n",
    "An explanation about the non-statistical audience is we can not consider the sample as the final test result, that means we need to recognize clearly about the result. when we focus the sample mean, the result is $\\mu$, the average of the whole population."
   ]
  },
  {
   "cell_type": "markdown",
   "id": "c521089c",
   "metadata": {},
   "source": [
    "#Summary for my chatbot (For the question two) \n",
    "\n",
    "Because there are some special symbols in the question (such as special letters for averages), I can't copy it directly to the chatbot. I can only take a screenshot of the page in question 2, put the screenshot in a new document, and then send it to the chatbot as a file upload.\n",
    "\n",
    "https://chatgpt.com/share/6708b9b9-b93c-800b-957f-7dbf56b6cc96"
   ]
  },
  {
   "cell_type": "markdown",
   "id": "8031b446",
   "metadata": {},
   "source": [
    "#Question 3\n",
    "\n",
    "In order to calculate a p-value, which expresses the likelihood of observing the data we have, or something more extreme, under the null hypothesis, we must first envisage a universe in which the null hypothesis is true. We establish a baseline expectation for what the data should show if there is no actual effect or difference by assuming the null hypothesis is true. Then, we may determine whether the observed data significantly differs from this expectation by looking at the p-value. We should doubt the validity of the null hypothesis if the p-value is extremely small since it indicates that the observed data is unlikely to occur if the null hypothesis is true."
   ]
  },
  {
   "cell_type": "markdown",
   "id": "da655b92",
   "metadata": {},
   "source": [
    "#Summary for my chatbot(For the question three)\n",
    "\n",
    "https://chatgpt.com/share/6708bb28-c9ec-800b-9105-21eed15d2b3f"
   ]
  },
  {
   "cell_type": "markdown",
   "id": "0cafe5c3",
   "metadata": {},
   "source": [
    "#Question 4\n",
    "\n",
    "The p-value indicates the degree of unpredictability of the observed test statistic with respect to the null hypothesis. It is probable that, in the event that the null hypothesis were correct, a test statistic as extreme as the one observed would be obtained. If H0 is true, then a small p-value demonstrates that the observed data is highly improbable.\n",
    "\n",
    "A small p-value shows that the observed test statistic deviates significantly from the expectation of the null hypothesis. If H0 were correct, the data would be incredibly rare or unexpected, and the p-value would decrease. Since the observed outcome sharply deviates from what we would have expected under H₀, this makes the null hypothesis \"more ridiculous.\""
   ]
  },
  {
   "cell_type": "markdown",
   "id": "6998a3b4",
   "metadata": {},
   "source": [
    "#Summary for my chatbot (For the question four)\n",
    "\n",
    "https://chatgpt.com/share/6708bffe-74f8-800b-9971-631f8534186b"
   ]
  },
  {
   "cell_type": "markdown",
   "id": "511d71c7",
   "metadata": {},
   "source": [
    "#Question 5\n",
    "\n",
    "The step we need to do:\n",
    "1. Assume the null hypothesis is true: the probability of tilting right is 50%.\n",
    "2. Simulate many trials where 124 couples are randomly assigned a head tilt (right or left) with equal probability.\n",
    "3. Count how many times the number of right tilts is at least as extreme as 80.\n",
    "4. The p-value is the proportion of these simulations where the number of right tilts is 80 or more.\n",
    "\n",
    "The simulated p-value is 0.0008, which provides very strong evidence against the null hypothesis H0. This suggests that the observed head-tilting behavior (with 64.5% tilting to the right) is unlikely to have occurred by chance under the assumption that people have no tendency to tilt their heads to either side when kissing.\n",
    "\n",
    "Interpretation using the provided table:\n",
    "p-value > 0.1: Little to no evidence against H0\n",
    "0.05 < p-value ≤ 0.1: Some evidence against H0\n",
    "0.01 < p-value ≤ 0.05: Strong evidence against H0\n",
    "p-value ≤ 0.01: Very strong evidence against H0"
   ]
  },
  {
   "cell_type": "markdown",
   "id": "01f9748f",
   "metadata": {},
   "source": [
    "#Question 6\n",
    "\n",
    "A lower p-value does not indicate with certainty that the null hypothesis is incorrect. Rather, it offers evidence that contradicts the null hypothesis, suggesting that the observed result is improbable given the null hypothesis's veracity. A p-value in the case of Fido (from the \"second pre-lecture video\") cannot conclusively establish guilt or innocence.\n",
    "\n",
    "A high p-value does not prove Fido is innocent; rather, it indicates that the data is consistent with innocence. Innocence (the null hypothesis is true): This indicates that there is not enough evidence to reject the null hypothesis.\n",
    "Alternative Hypothesis on Guilt: A low p-value indicates that the null hypothesis is not true, but it does not prove guilt beyond a reasonable doubt. Even in the case that Fido is innocent, there is always a chance that the observed outcome was the result of chance."
   ]
  },
  {
   "cell_type": "markdown",
   "id": "a998ee80",
   "metadata": {},
   "source": [
    "#Question 7\n",
    "\n",
    "Changes in the code:\n",
    "Original two-sided test: In a two-sided test, you determine the likelihood of finding a result that is as extreme as the one you saw, either positively or negatively. This indicates that in order to account for both tails of the distribution, you multiply the p-value by 2.\n",
    "One-sided test (adjustment): In a one-sided test, you only consider the probability of observing a result as extreme as or more extreme than the one in one direction (depending on whether your alternative hypothesis is greater than or less than).\n",
    "\n",
    "Interpretation the change:\n",
    "Test with two sides: The objective is to determine if the vaccination impact deviates from zero in any way (either more or less). In either direction, the p-value indicates the likelihood of finding a result that is as extreme as the one you saw.\n",
    "Test that just looks at one side of the hypothesis: You are only looking at whether the vaccination impact is larger or smaller than zero. When looking at a single direction, the p-value indicates the likelihood of seeing a result that is as extreme as the one you saw.\n",
    "\n",
    "Should the p-value be smaller in a one-sided test?\n",
    "In a one-sided test, you are taking into account just one direction of extremity, which effectively cuts the area you are interested in under the probability distribution in half. For this reason, the p-value is typically predicted to be smaller than in a two-sided test."
   ]
  },
  {
   "cell_type": "markdown",
   "id": "62baf261",
   "metadata": {},
   "source": [
    "#Summmary for my chatbot (From question five to question seven)\n",
    "\n",
    "https://chatgpt.com/share/6708c42b-dfb0-800b-b327-35b6feaab159"
   ]
  },
  {
   "cell_type": "markdown",
   "id": "4d223314",
   "metadata": {},
   "source": [
    "#Question 8\n",
    "\n",
    "Problem Introduction: \n",
    "This analysis aims to test whether a group of STA130 students can correctly distinguish whether milk or tea was poured first in a cup of tea. This experiment mirrors the famous Fisher's Tea Experiment, where Ronald Fisher tested whether Dr. Muriel Bristol could differentiate the order in which milk and tea were added. In our case, 49 out of 80 students correctly identified the order, and we will use formal hypothesis testing to determine whether this result could be due to random chance or if it suggests that the students can indeed differentiate between the two.\n",
    "\n",
    "Relationship Between This Experiment and Fisher's Tea Experiment: \n",
    "In contrast to the last experiment, which examined a single person's capacity to distinguish between different tea preparation methods, this one extends the question to 80 students. The sample's size and makeup account for the majority of the differences: This experiment is more of a population-level investigation into human perception than Fisher's, which focused on the subjective evaluation of a single participant. Instead, a larger sample size of students is used in this experiment. \n",
    "\n",
    "Null and Alternative Hypotheses:\n",
    "Null Hypothesis (H₀): The students are randomly guessing, and the probability of correctly identifying whether the tea or milk was poured first is 50%. In formal terms, H0:p=0.5, where p is the proportion of students who correctly identify the order.\n",
    "Alternative Hypothesis (H₁): The students are not guessing, and the probability of correctly identifying the order differs from 50%. In formal terms, H1:p not equal to 0.5.\n",
    "\n",
    "Informal Explanation: According to the null hypothesis, the students are merely speculating, which means there is a 50% possibility that they will be right by chance. According to the alternate theory, the pupils' answers might not be coincidental and they might be able to distinguish between the two.\n",
    "\n",
    "Quantitative Analysis Addressing the Validity of H₀:\n",
    "Steps:\n",
    "1. Compute the observed test statistic: Pobs=49/80 = 0.6125\n",
    "2. Set the significance level (usually α = 0.05)\n",
    "3. Perform a binomial test or a z-test for proportions to find the p-value."
   ]
  },
  {
   "cell_type": "code",
   "execution_count": 1,
   "id": "a6c9313e",
   "metadata": {},
   "outputs": [
    {
     "name": "stdout",
     "output_type": "stream",
     "text": [
      "Observed proportion: 0.6125\n",
      "Z-statistic: 2.0124611797498115\n",
      "P-value: 0.044171344908442434\n",
      "Reject the null hypothesis: Evidence suggests the students are not guessing.\n"
     ]
    }
   ],
   "source": [
    "import numpy as np\n",
    "import scipy.stats as stats\n",
    "\n",
    "# Parameters\n",
    "n = 80  # number of trials\n",
    "x = 49  # number of successes\n",
    "p_null = 0.5  # null hypothesis proportion\n",
    "alpha = 0.05  # significance level\n",
    "\n",
    "# Observed proportion\n",
    "p_obs = x / n\n",
    "\n",
    "# Perform a z-test for proportions\n",
    "phat = p_obs\n",
    "z_stat = (phat - p_null) / np.sqrt((p_null * (1 - p_null)) / n)\n",
    "p_value = 2 * (1 - stats.norm.cdf(abs(z_stat)))  # Two-tailed test\n",
    "\n",
    "print(f\"Observed proportion: {p_obs}\")\n",
    "print(f\"Z-statistic: {z_stat}\")\n",
    "print(f\"P-value: {p_value}\")\n",
    "\n",
    "# Conclusion\n",
    "if p_value < alpha:\n",
    "    print(\"Reject the null hypothesis: Evidence suggests the students are not guessing.\")\n",
    "else:\n",
    "    print(\"Fail to reject the null hypothesis: The result could be due to random guessing.\")\n"
   ]
  },
  {
   "cell_type": "code",
   "execution_count": 2,
   "id": "2fdbb420",
   "metadata": {},
   "outputs": [
    {
     "data": {
      "image/png": "[encoded data removed]",
      "text/plain": [
       "<Figure size 640x480 with 1 Axes>"
      ]
     },
     "metadata": {},
     "output_type": "display_data"
    }
   ],
   "source": [
    "import matplotlib.pyplot as plt\n",
    "\n",
    "# Bar plot of observed vs expected\n",
    "expected = n * p_null\n",
    "observed = x\n",
    "\n",
    "plt.bar(['Expected', 'Observed'], [expected, observed], color=['gray', 'blue'])\n",
    "plt.ylabel('Number of Correct Guesses')\n",
    "plt.title('Expected vs Observed Correct Guesses')\n",
    "plt.show()\n"
   ]
  },
  {
   "cell_type": "markdown",
   "id": "85b06513",
   "metadata": {},
   "source": [
    "Findings and Discussion: \n",
    "The observed fraction of 0.6125 and the computed p-value, which is dependent on the test outcome. We reject the null hypothesis and come to the conclusion that the students are not only speculating if the p-value is less than 0.05. We cannot reject the null hypothesis if the p-value is greater than 0.05, suggesting that the observed result may be the result of chance.\n",
    "\n",
    "Conclusion Regarding the Null Hypothesis: \n",
    "1) If the p-value is below the significance level, we reject the null hypothesis, suggesting that the students are not guessing.\n",
    "2) If the p-value is above the significance level, we fail to reject the null hypothesis, meaning that the results could be consistent with random guessing."
   ]
  },
  {
   "cell_type": "markdown",
   "id": "c5f89dde",
   "metadata": {},
   "source": [
    "#Summary for my chatbot (For thequestion 8)\n",
    "\n",
    "https://chatgpt.com/share/67095722-12b8-800b-99f3-894b1fcf1cab"
   ]
  },
  {
   "cell_type": "markdown",
   "id": "e378f650",
   "metadata": {},
   "source": [
    "#Question 9\n",
    "\n",
    "Yes"
   ]
  }
 ],
 "metadata": {
  "kernelspec": {
   "display_name": "Python 3 (ipykernel)",
   "language": "python",
   "name": "python3"
  },
  "language_info": {
   "codemirror_mode": {
    "name": "ipython",
    "version": 3
   },
   "file_extension": ".py",
   "mimetype": "text/x-python",
   "name": "python",
   "nbconvert_exporter": "python",
   "pygments_lexer": "ipython3",
   "version": "3.11.6"
  }
 },
 "nbformat": 4,
 "nbformat_minor": 5
}
